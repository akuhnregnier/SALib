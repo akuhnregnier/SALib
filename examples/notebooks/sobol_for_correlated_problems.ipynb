{
 "cells": [
  {
   "cell_type": "markdown",
   "id": "615be3cd",
   "metadata": {},
   "source": [
    "Method and tests from paper:\n",
    "\n",
    "@article{mara2015non,\n",
    "  title={Non-parametric methods for global sensitivity analysis of model output with dependent inputs},\n",
    "  author={Mara, Thierry A and Tarantola, Stefano and Annoni, Paola},\n",
    "  journal={Environmental modelling \\& software},\n",
    "  volume={72},\n",
    "  pages={173--183},\n",
    "  year={2015},\n",
    "  publisher={Elsevier}\n",
    "}"
   ]
  },
  {
   "cell_type": "code",
   "execution_count": null,
   "id": "869212c9",
   "metadata": {},
   "outputs": [],
   "source": [
    "import matplotlib.pyplot as plt\n",
    "import numpy as np\n",
    "import seaborn as sns\n",
    "from tqdm import tqdm\n",
    "\n",
    "from SALib.analyze.sobol_corr import analyze"
   ]
  },
  {
   "cell_type": "code",
   "execution_count": null,
   "id": "d0da3a0e",
   "metadata": {},
   "outputs": [],
   "source": [
    "from SALib.sample.sobol_corr import sample\n",
    "\n",
    "\n",
    "def get_sensitivity_stats(problem, si_fabric, n=100, plotting=False):\n",
    "    results = {}\n",
    "    for _ in tqdm(range(n)):\n",
    "        Sis = si_fabric(problem)\n",
    "        for k, v in Sis.items():\n",
    "            if k not in results:\n",
    "                results[k] = [v]\n",
    "            else:\n",
    "                results[k].append(v)\n",
    "\n",
    "    for k in results:\n",
    "        results[k] = np.array(results[k])\n",
    "\n",
    "    if plotting:\n",
    "        for k in results:\n",
    "            for i in range(problem[\"num_vars\"]):\n",
    "                print(\"===========\")\n",
    "                print(k, problem[\"names\"][i])\n",
    "                print(\"median: \", np.median(results[k][:, i]))\n",
    "                print(\"mean: \", np.mean(results[k][:, i]))\n",
    "                print(\"std: \", np.std(results[k][:, i]))\n",
    "                plt.title(k)\n",
    "                sns.distplot(results[k][:, i])\n",
    "                plt.show()\n",
    "                plt.close()\n",
    "\n",
    "    return results"
   ]
  },
  {
   "cell_type": "code",
   "execution_count": null,
   "id": "c740a324",
   "metadata": {},
   "outputs": [],
   "source": [
    "def make_Si(problem):\n",
    "    sample_args = {\n",
    "        \"n_sample\": 1000,\n",
    "    }\n",
    "\n",
    "    analyze_args = {\n",
    "        **sample_args,\n",
    "        \"n_boot\": 100,\n",
    "        \"estimator\": \"soboleff1\",\n",
    "    }\n",
    "\n",
    "    x = sample(problem, **sample_args)\n",
    "    y = problem[\"func\"](x)\n",
    "    return analyze(problem, x, y, **analyze_args)"
   ]
  },
  {
   "cell_type": "markdown",
   "id": "44a8833f",
   "metadata": {},
   "source": [
    "# Test 1"
   ]
  },
  {
   "cell_type": "code",
   "execution_count": null,
   "id": "fc530224",
   "metadata": {},
   "outputs": [],
   "source": [
    "def make_problem1():\n",
    "    def func(v):\n",
    "        return np.sum(v, axis=1)  # f(x) = x1+x2+x3\n",
    "\n",
    "    def si_analytical():\n",
    "        return {\n",
    "            \"S1_ind\": [0.02, 0.05, 0.03],\n",
    "            \"ST_ind\": [0.02, 0.05, 0.03],\n",
    "            \"S1_full\": [0.95, 0.40, 0.60],\n",
    "            \"ST_full\": [0.95, 0.40, 0.60],\n",
    "        }\n",
    "\n",
    "    problem = {\n",
    "        \"num_vars\": 3,\n",
    "        \"names\": [\"x1\", \"x2\", \"x3\"],\n",
    "        \"distrs\": [\"norm\", \"norm\", \"norm\"],\n",
    "        \"bounds\": [\n",
    "            [0.0, 1.0],\n",
    "            [0.0, 1.0],\n",
    "            [0.0, 1.0],\n",
    "        ],\n",
    "        \"corr\": [\n",
    "            [1.0, 0.5, 0.8],\n",
    "            [0.5, 1.0, 0.0],\n",
    "            [0.8, 0.0, 1.0],\n",
    "        ],\n",
    "        \"func\": func,\n",
    "        \"analytical\": si_analytical,\n",
    "    }\n",
    "\n",
    "    return problem"
   ]
  },
  {
   "cell_type": "code",
   "execution_count": null,
   "id": "40c10463",
   "metadata": {},
   "outputs": [],
   "source": [
    "problem = make_problem1()\n",
    "results_c = get_sensitivity_stats(problem, make_Si, n=500, plotting=False)\n",
    "results_a = problem[\"analytical\"]()"
   ]
  },
  {
   "cell_type": "code",
   "execution_count": null,
   "id": "0ead401e",
   "metadata": {},
   "outputs": [],
   "source": [
    "print(\"Calculated: S1_ind\", results_c[\"S1_ind\"].mean(axis=0))\n",
    "print(\"Analytical: S1_ind\", results_a[\"S1_ind\"], \"\\n\")\n",
    "\n",
    "print(\"Calculated: ST_ind\", results_c[\"ST_ind\"].mean(axis=0))\n",
    "print(\"Analytical: ST_ind\", results_a[\"ST_ind\"], \"\\n\")\n",
    "\n",
    "print(\"Calculated: S1_full\", results_c[\"S1_full\"].mean(axis=0))\n",
    "print(\"Analytical: S1_full\", results_a[\"S1_full\"], \"\\n\")\n",
    "\n",
    "print(\"Calculated: ST_full\", results_c[\"ST_full\"].mean(axis=0))\n",
    "print(\"Analytical: ST_full\", results_a[\"ST_full\"])"
   ]
  },
  {
   "cell_type": "markdown",
   "id": "f224fb03",
   "metadata": {},
   "source": [
    "# Test 2"
   ]
  },
  {
   "cell_type": "code",
   "execution_count": null,
   "id": "3a1e24d9",
   "metadata": {},
   "outputs": [],
   "source": [
    "def make_problem2():\n",
    "    def func(v):\n",
    "        return np.sum(v, axis=1)  # f(x) = x1+x2+x3\n",
    "\n",
    "    def si_analytical():\n",
    "        return {\n",
    "            \"S1_ind\": [0.70, 0.37, 0.50],\n",
    "            \"ST_ind\": [0.70, 0.37, 0.50],\n",
    "            \"S1_full\": [0.49, 0.05, 0.25],\n",
    "            \"ST_full\": [0.49, 0.05, 0.25],\n",
    "        }\n",
    "\n",
    "    problem = {\n",
    "        \"num_vars\": 3,\n",
    "        \"names\": [\"x1\", \"x2\", \"x3\"],\n",
    "        \"distrs\": [\"norm\", \"norm\", \"norm\"],\n",
    "        \"bounds\": [\n",
    "            [0.0, 1.0],\n",
    "            [0.0, 1.0],\n",
    "            [0.0, 1.0],\n",
    "        ],\n",
    "        \"corr\": [\n",
    "            [1.0, -0.5, 0.2],\n",
    "            [-0.5, 1.0, -0.7],\n",
    "            [0.2, -0.7, 1.0],\n",
    "        ],\n",
    "        \"func\": func,\n",
    "        \"analytical\": si_analytical,\n",
    "    }\n",
    "\n",
    "    return problem"
   ]
  },
  {
   "cell_type": "code",
   "execution_count": null,
   "id": "748d1e9e",
   "metadata": {},
   "outputs": [],
   "source": [
    "problem = make_problem2()\n",
    "results_c = get_sensitivity_stats(problem, make_Si, n=500, plotting=False)\n",
    "results_a = problem[\"analytical\"]()"
   ]
  },
  {
   "cell_type": "code",
   "execution_count": null,
   "id": "c06df0dd",
   "metadata": {},
   "outputs": [],
   "source": [
    "print(\"Calculated: S1_ind\", results_c[\"S1_ind\"].mean(axis=0))\n",
    "print(\"Analytical: S1_ind\", results_a[\"S1_ind\"], \"\\n\")\n",
    "\n",
    "print(\"Calculated: ST_ind\", results_c[\"ST_ind\"].mean(axis=0))\n",
    "print(\"Analytical: ST_ind\", results_a[\"ST_ind\"], \"\\n\")\n",
    "\n",
    "print(\"Calculated: S1_full\", results_c[\"S1_full\"].mean(axis=0))\n",
    "print(\"Analytical: S1_full\", results_a[\"S1_full\"], \"\\n\")\n",
    "\n",
    "print(\"Calculated: ST_full\", results_c[\"ST_full\"].mean(axis=0))\n",
    "print(\"Analytical: ST_full\", results_a[\"ST_full\"])"
   ]
  }
 ],
 "metadata": {
  "kernelspec": {
   "display_name": "Python 3",
   "language": "python",
   "name": "python3"
  }
 },
 "nbformat": 4,
 "nbformat_minor": 5
}
