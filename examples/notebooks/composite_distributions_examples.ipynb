{
 "cells": [
  {
   "cell_type": "markdown",
   "id": "38eb4c1b",
   "metadata": {},
   "source": [
    "# Examples of distributions mixes\n",
    "\n",
    "import numpy as np"
   ]
  },
  {
   "cell_type": "code",
   "execution_count": null,
   "id": "dc3a1a9c",
   "metadata": {},
   "outputs": [],
   "source": [
    "import pandas as pd\n",
    "import seaborn as sns\n",
    "\n",
    "from SALib.util.distrs import make_input_distribution"
   ]
  },
  {
   "cell_type": "code",
   "execution_count": null,
   "id": "88c45412",
   "metadata": {},
   "outputs": [],
   "source": [
    "problem = {\"num_vars\": 3, \"bounds\": [[0, 1], [0, 1], [0, 1]]}\n",
    "\n",
    "\n",
    "input_distribution = make_input_distribution(problem)\n",
    "df = input_distribution.getSample(10000)\n",
    "sns.pairplot(pd.DataFrame(data=np.asarray(df)))"
   ]
  },
  {
   "cell_type": "code",
   "execution_count": null,
   "id": "ff61a5d1",
   "metadata": {},
   "outputs": [],
   "source": [
    "problem = {\n",
    "    \"num_vars\": 3,\n",
    "    \"bounds\": [[0, 1], [0, 1], [0, 1]],\n",
    "    \"distrs\": [\"unif\", \"unif\", \"unif\"],\n",
    "}\n",
    "\n",
    "\n",
    "input_distribution = make_input_distribution(problem)\n",
    "df = input_distribution.getSample(10000)\n",
    "sns.pairplot(pd.DataFrame(data=np.asarray(df)))"
   ]
  },
  {
   "cell_type": "code",
   "execution_count": null,
   "id": "13948766",
   "metadata": {},
   "outputs": [],
   "source": [
    "problem = {\n",
    "    \"num_vars\": 3,\n",
    "    \"bounds\": [[0, 1], [0, 1], [0, 1]],\n",
    "    \"distrs\": [\"unif\", \"unif\", \"norm\"],\n",
    "}\n",
    "\n",
    "\n",
    "input_distribution = make_input_distribution(problem)\n",
    "df = input_distribution.getSample(10000)\n",
    "sns.pairplot(pd.DataFrame(data=np.asarray(df)))"
   ]
  },
  {
   "cell_type": "code",
   "execution_count": null,
   "id": "71f99b59",
   "metadata": {},
   "outputs": [],
   "source": [
    "problem = {\n",
    "    \"num_vars\": 3,\n",
    "    \"bounds\": [[0, 1], [0, 1], [0, 1]],\n",
    "    \"distrs\": [\"unif\", \"norm\", \"norm\"],\n",
    "}\n",
    "\n",
    "\n",
    "input_distribution = make_input_distribution(problem)\n",
    "df = input_distribution.getSample(10000)\n",
    "sns.pairplot(pd.DataFrame(data=np.asarray(df)))"
   ]
  },
  {
   "cell_type": "code",
   "execution_count": null,
   "id": "023d5056",
   "metadata": {},
   "outputs": [],
   "source": [
    "problem = {\n",
    "    \"num_vars\": 3,\n",
    "    \"bounds\": [[0, 1], [0, 1], [0, 1]],\n",
    "    \"distrs\": [\"unif\", \"unif\", \"unif\"],\n",
    "    \"corr\": [[1, 0, 0], [0, 1, 0], [0, 0, 1]],\n",
    "}\n",
    "\n",
    "\n",
    "input_distribution = make_input_distribution(problem)\n",
    "df = input_distribution.getSample(10000)\n",
    "sns.pairplot(pd.DataFrame(data=np.asarray(df)))"
   ]
  },
  {
   "cell_type": "code",
   "execution_count": null,
   "id": "e417e376",
   "metadata": {},
   "outputs": [],
   "source": [
    "problem = {\n",
    "    \"num_vars\": 3,\n",
    "    \"bounds\": [[0, 1], [0, 1], [0, 1]],\n",
    "    \"distrs\": [\"unif\", \"unif\", \"unif\"],\n",
    "    \"corr\": [[1, 0, 0], [0, 1, 0.9], [0, 0.9, 1]],\n",
    "}\n",
    "\n",
    "\n",
    "input_distribution = make_input_distribution(problem)\n",
    "df = input_distribution.getSample(10000)\n",
    "sns.pairplot(pd.DataFrame(data=np.asarray(df)))"
   ]
  },
  {
   "cell_type": "code",
   "execution_count": null,
   "id": "5e4d877a",
   "metadata": {},
   "outputs": [],
   "source": [
    "problem = {\n",
    "    \"num_vars\": 3,\n",
    "    \"bounds\": [[0, 1], [0, 1], [0, 1]],\n",
    "    \"distrs\": [\"unif\", \"norm\", \"norm\"],\n",
    "    \"corr\": [[1, 0.5, 0.5], [0.5, 1, 0.9], [0.5, 0.9, 1]],\n",
    "}\n",
    "\n",
    "\n",
    "input_distribution = make_input_distribution(problem)\n",
    "df = input_distribution.getSample(10000)\n",
    "sns.pairplot(pd.DataFrame(data=np.asarray(df)))"
   ]
  }
 ],
 "metadata": {
  "kernelspec": {
   "display_name": "Python 3",
   "language": "python",
   "name": "python3"
  }
 },
 "nbformat": 4,
 "nbformat_minor": 5
}
