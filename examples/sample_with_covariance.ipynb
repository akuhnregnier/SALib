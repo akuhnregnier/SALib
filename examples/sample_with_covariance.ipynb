{
 "cells": [
  {
   "cell_type": "code",
   "execution_count": null,
   "id": "9c950777",
   "metadata": {},
   "outputs": [],
   "source": [
    "import numpy as np"
   ]
  },
  {
   "cell_type": "code",
   "execution_count": null,
   "id": "2ef5fc96",
   "metadata": {},
   "outputs": [],
   "source": [
    "from SALib.sample import saltelli"
   ]
  },
  {
   "cell_type": "code",
   "execution_count": null,
   "id": "ec91c85a",
   "metadata": {},
   "outputs": [],
   "source": [
    "means = np.array([0.0, 0.0, 250.0, 400.0])\n",
    "means = np.expand_dims(means, axis=0).T\n",
    "\n",
    "cov = np.array([[4, 2, 0, 0], [2, 4, 0, 0], [0, 0, 10, -2], [0, 0, -2, 10]])\n",
    "\n",
    "composition = np.hstack((means, cov))\n",
    "print(composition)\n",
    "\n",
    "\n",
    "problem = {\n",
    "    \"num_vars\": 4,\n",
    "    \"names\": [\"x1\", \"x2\", \"x3\", \"x4\"],\n",
    "    \"bounds\": composition,\n",
    "    \"dists\": \"multi_norm\",\n",
    "}"
   ]
  },
  {
   "cell_type": "code",
   "execution_count": null,
   "id": "552a8ff3",
   "metadata": {},
   "outputs": [],
   "source": [
    "X = saltelli.sample(problem, 1000, calc_second_order=False)"
   ]
  },
  {
   "cell_type": "code",
   "execution_count": null,
   "id": "a60bb944",
   "metadata": {},
   "outputs": [],
   "source": [
    "print(np.cov(X.T))"
   ]
  },
  {
   "cell_type": "code",
   "execution_count": null,
   "id": "ffe0d335",
   "metadata": {},
   "outputs": [],
   "source": [
    "print(np.mean(X, axis=0))"
   ]
  }
 ],
 "metadata": {
  "kernelspec": {
   "display_name": "Python 3",
   "language": "python",
   "name": "python3"
  }
 },
 "nbformat": 4,
 "nbformat_minor": 5
}
